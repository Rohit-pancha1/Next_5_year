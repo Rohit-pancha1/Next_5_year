{
 "cells": [
  {
   "cell_type": "code",
   "execution_count": 1,
   "id": "dc6bd47e-26aa-41d9-bbd5-10c22dd584be",
   "metadata": {},
   "outputs": [],
   "source": [
    "import pandas as pd\n",
    "import plotly.express as px"
   ]
  },
  {
   "cell_type": "code",
   "execution_count": 2,
   "id": "fc7cc201-7f89-4029-b618-a2f15ee03077",
   "metadata": {},
   "outputs": [
    {
     "data": {
      "text/html": [
       "<div>\n",
       "<style scoped>\n",
       "    .dataframe tbody tr th:only-of-type {\n",
       "        vertical-align: middle;\n",
       "    }\n",
       "\n",
       "    .dataframe tbody tr th {\n",
       "        vertical-align: top;\n",
       "    }\n",
       "\n",
       "    .dataframe thead th {\n",
       "        text-align: right;\n",
       "    }\n",
       "</style>\n",
       "<table border=\"1\" class=\"dataframe\">\n",
       "  <thead>\n",
       "    <tr style=\"text-align: right;\">\n",
       "      <th></th>\n",
       "      <th>0</th>\n",
       "      <th>1</th>\n",
       "      <th>2</th>\n",
       "      <th>3</th>\n",
       "      <th>4</th>\n",
       "      <th>5</th>\n",
       "      <th>6</th>\n",
       "      <th>7</th>\n",
       "      <th>8</th>\n",
       "    </tr>\n",
       "  </thead>\n",
       "  <tbody>\n",
       "    <tr>\n",
       "      <th>0</th>\n",
       "      <td>Brands</td>\n",
       "      <td>2016</td>\n",
       "      <td>2017</td>\n",
       "      <td>2018</td>\n",
       "      <td>2019</td>\n",
       "      <td>2020</td>\n",
       "      <td>2021</td>\n",
       "      <td>2022</td>\n",
       "      <td>2023</td>\n",
       "    </tr>\n",
       "    <tr>\n",
       "      <th>1</th>\n",
       "      <td>Apple</td>\n",
       "      <td>79918</td>\n",
       "      <td>92956</td>\n",
       "      <td>36311</td>\n",
       "      <td>98601</td>\n",
       "      <td>70320</td>\n",
       "      <td>51261</td>\n",
       "      <td>92014</td>\n",
       "      <td>78019</td>\n",
       "    </tr>\n",
       "    <tr>\n",
       "      <th>2</th>\n",
       "      <td>Mi</td>\n",
       "      <td>3315550</td>\n",
       "      <td>1409596</td>\n",
       "      <td>9277163</td>\n",
       "      <td>1660474</td>\n",
       "      <td>9992642</td>\n",
       "      <td>8448689</td>\n",
       "      <td>3212109</td>\n",
       "      <td>3837745</td>\n",
       "    </tr>\n",
       "    <tr>\n",
       "      <th>3</th>\n",
       "      <td>Samsung</td>\n",
       "      <td>9394877</td>\n",
       "      <td>6224008</td>\n",
       "      <td>2676267</td>\n",
       "      <td>10854249</td>\n",
       "      <td>9698714</td>\n",
       "      <td>5601749</td>\n",
       "      <td>11744976</td>\n",
       "      <td>6454424</td>\n",
       "    </tr>\n",
       "    <tr>\n",
       "      <th>4</th>\n",
       "      <td>Nokia</td>\n",
       "      <td>9957350</td>\n",
       "      <td>10681674</td>\n",
       "      <td>8963409</td>\n",
       "      <td>9150408</td>\n",
       "      <td>8832315</td>\n",
       "      <td>7767173</td>\n",
       "      <td>5021397</td>\n",
       "      <td>9566786</td>\n",
       "    </tr>\n",
       "  </tbody>\n",
       "</table>\n",
       "</div>"
      ],
      "text/plain": [
       "         0        1         2        3         4        5        6         7  \\\n",
       "0   Brands     2016      2017     2018      2019     2020     2021      2022   \n",
       "1    Apple    79918     92956    36311     98601    70320    51261     92014   \n",
       "2       Mi  3315550   1409596  9277163   1660474  9992642  8448689   3212109   \n",
       "3  Samsung  9394877   6224008  2676267  10854249  9698714  5601749  11744976   \n",
       "4    Nokia  9957350  10681674  8963409   9150408  8832315  7767173   5021397   \n",
       "\n",
       "         8  \n",
       "0     2023  \n",
       "1    78019  \n",
       "2  3837745  \n",
       "3  6454424  \n",
       "4  9566786  "
      ]
     },
     "execution_count": 2,
     "metadata": {},
     "output_type": "execute_result"
    }
   ],
   "source": [
    "data = pd.read_csv('prac.csv',header=None)\n",
    "data.head()"
   ]
  },
  {
   "cell_type": "code",
   "execution_count": 3,
   "id": "ec2d8870-7bd9-4b8a-9e9d-46435598e711",
   "metadata": {},
   "outputs": [],
   "source": [
    "data.to_csv('output.csv',header=False,index=False)"
   ]
  },
  {
   "cell_type": "code",
   "execution_count": 4,
   "id": "b2d6add8-7b3a-43f2-a686-0c136bc4eca7",
   "metadata": {},
   "outputs": [
    {
     "data": {
      "text/html": [
       "<div>\n",
       "<style scoped>\n",
       "    .dataframe tbody tr th:only-of-type {\n",
       "        vertical-align: middle;\n",
       "    }\n",
       "\n",
       "    .dataframe tbody tr th {\n",
       "        vertical-align: top;\n",
       "    }\n",
       "\n",
       "    .dataframe thead th {\n",
       "        text-align: right;\n",
       "    }\n",
       "</style>\n",
       "<table border=\"1\" class=\"dataframe\">\n",
       "  <thead>\n",
       "    <tr style=\"text-align: right;\">\n",
       "      <th></th>\n",
       "      <th>Brands</th>\n",
       "      <th>2016</th>\n",
       "      <th>2017</th>\n",
       "      <th>2018</th>\n",
       "      <th>2019</th>\n",
       "      <th>2020</th>\n",
       "      <th>2021</th>\n",
       "      <th>2022</th>\n",
       "      <th>2023</th>\n",
       "    </tr>\n",
       "  </thead>\n",
       "  <tbody>\n",
       "    <tr>\n",
       "      <th>0</th>\n",
       "      <td>Apple</td>\n",
       "      <td>79918</td>\n",
       "      <td>92956</td>\n",
       "      <td>36311</td>\n",
       "      <td>98601</td>\n",
       "      <td>70320</td>\n",
       "      <td>51261</td>\n",
       "      <td>92014</td>\n",
       "      <td>78019</td>\n",
       "    </tr>\n",
       "    <tr>\n",
       "      <th>1</th>\n",
       "      <td>Mi</td>\n",
       "      <td>3315550</td>\n",
       "      <td>1409596</td>\n",
       "      <td>9277163</td>\n",
       "      <td>1660474</td>\n",
       "      <td>9992642</td>\n",
       "      <td>8448689</td>\n",
       "      <td>3212109</td>\n",
       "      <td>3837745</td>\n",
       "    </tr>\n",
       "    <tr>\n",
       "      <th>2</th>\n",
       "      <td>Samsung</td>\n",
       "      <td>9394877</td>\n",
       "      <td>6224008</td>\n",
       "      <td>2676267</td>\n",
       "      <td>10854249</td>\n",
       "      <td>9698714</td>\n",
       "      <td>5601749</td>\n",
       "      <td>11744976</td>\n",
       "      <td>6454424</td>\n",
       "    </tr>\n",
       "    <tr>\n",
       "      <th>3</th>\n",
       "      <td>Nokia</td>\n",
       "      <td>9957350</td>\n",
       "      <td>10681674</td>\n",
       "      <td>8963409</td>\n",
       "      <td>9150408</td>\n",
       "      <td>8832315</td>\n",
       "      <td>7767173</td>\n",
       "      <td>5021397</td>\n",
       "      <td>9566786</td>\n",
       "    </tr>\n",
       "    <tr>\n",
       "      <th>4</th>\n",
       "      <td>Moto</td>\n",
       "      <td>8811559</td>\n",
       "      <td>8960636</td>\n",
       "      <td>9256990</td>\n",
       "      <td>5709109</td>\n",
       "      <td>9261169</td>\n",
       "      <td>1095159</td>\n",
       "      <td>11050079</td>\n",
       "      <td>2209602</td>\n",
       "    </tr>\n",
       "  </tbody>\n",
       "</table>\n",
       "</div>"
      ],
      "text/plain": [
       "    Brands     2016      2017     2018      2019     2020     2021      2022  \\\n",
       "0    Apple    79918     92956    36311     98601    70320    51261     92014   \n",
       "1       Mi  3315550   1409596  9277163   1660474  9992642  8448689   3212109   \n",
       "2  Samsung  9394877   6224008  2676267  10854249  9698714  5601749  11744976   \n",
       "3    Nokia  9957350  10681674  8963409   9150408  8832315  7767173   5021397   \n",
       "4     Moto  8811559   8960636  9256990   5709109  9261169  1095159  11050079   \n",
       "\n",
       "      2023  \n",
       "0    78019  \n",
       "1  3837745  \n",
       "2  6454424  \n",
       "3  9566786  \n",
       "4  2209602  "
      ]
     },
     "execution_count": 4,
     "metadata": {},
     "output_type": "execute_result"
    }
   ],
   "source": [
    "de = pd.read_csv('output.csv')\n",
    "de.head()"
   ]
  },
  {
   "cell_type": "code",
   "execution_count": 18,
   "id": "48eecbe7-eb42-4775-b351-cd88fdbed2ac",
   "metadata": {},
   "outputs": [],
   "source": [
    "de.rename(columns={'Brands': 'Year'}, inplace=True)\n",
    "de.head()\n",
    "de.transpose()\n",
    "de.to_csv('some.csv',header=False)"
   ]
  },
  {
   "cell_type": "code",
   "execution_count": 19,
   "id": "df1d54a1-57a0-45c4-9c24-b704afe9a6b7",
   "metadata": {},
   "outputs": [],
   "source": [
    "dt = pd.read_csv('some.csv')"
   ]
  },
  {
   "cell_type": "code",
   "execution_count": 14,
   "id": "1a8a9d37-8dd9-44c4-9407-5457067dea1f",
   "metadata": {},
   "outputs": [
    {
     "data": {
      "text/html": [
       "<div>\n",
       "<style scoped>\n",
       "    .dataframe tbody tr th:only-of-type {\n",
       "        vertical-align: middle;\n",
       "    }\n",
       "\n",
       "    .dataframe tbody tr th {\n",
       "        vertical-align: top;\n",
       "    }\n",
       "\n",
       "    .dataframe thead th {\n",
       "        text-align: right;\n",
       "    }\n",
       "</style>\n",
       "<table border=\"1\" class=\"dataframe\">\n",
       "  <thead>\n",
       "    <tr style=\"text-align: right;\">\n",
       "      <th></th>\n",
       "      <th>Years</th>\n",
       "      <th>Apple</th>\n",
       "      <th>Mi</th>\n",
       "      <th>Samsung</th>\n",
       "      <th>Nokia</th>\n",
       "      <th>Moto</th>\n",
       "      <th>Vivo</th>\n",
       "      <th>Oppo</th>\n",
       "    </tr>\n",
       "  </thead>\n",
       "  <tbody>\n",
       "    <tr>\n",
       "      <th>0</th>\n",
       "      <td>2016</td>\n",
       "      <td>79918</td>\n",
       "      <td>3315550</td>\n",
       "      <td>9394877</td>\n",
       "      <td>9957350</td>\n",
       "      <td>8811559</td>\n",
       "      <td>3216518</td>\n",
       "      <td>4292105</td>\n",
       "    </tr>\n",
       "    <tr>\n",
       "      <th>1</th>\n",
       "      <td>2017</td>\n",
       "      <td>92956</td>\n",
       "      <td>1409596</td>\n",
       "      <td>6224008</td>\n",
       "      <td>10681674</td>\n",
       "      <td>8960636</td>\n",
       "      <td>1199904</td>\n",
       "      <td>4892096</td>\n",
       "    </tr>\n",
       "    <tr>\n",
       "      <th>2</th>\n",
       "      <td>2018</td>\n",
       "      <td>36311</td>\n",
       "      <td>9277163</td>\n",
       "      <td>2676267</td>\n",
       "      <td>8963409</td>\n",
       "      <td>9256990</td>\n",
       "      <td>6631994</td>\n",
       "      <td>5552392</td>\n",
       "    </tr>\n",
       "    <tr>\n",
       "      <th>3</th>\n",
       "      <td>2019</td>\n",
       "      <td>98601</td>\n",
       "      <td>1660474</td>\n",
       "      <td>10854249</td>\n",
       "      <td>9150408</td>\n",
       "      <td>5709109</td>\n",
       "      <td>7478769</td>\n",
       "      <td>7785292</td>\n",
       "    </tr>\n",
       "    <tr>\n",
       "      <th>4</th>\n",
       "      <td>2020</td>\n",
       "      <td>70320</td>\n",
       "      <td>9992642</td>\n",
       "      <td>9698714</td>\n",
       "      <td>8832315</td>\n",
       "      <td>9261169</td>\n",
       "      <td>6015910</td>\n",
       "      <td>2739808</td>\n",
       "    </tr>\n",
       "  </tbody>\n",
       "</table>\n",
       "</div>"
      ],
      "text/plain": [
       "   Years  Apple       Mi   Samsung     Nokia     Moto     Vivo     Oppo\n",
       "0   2016  79918  3315550   9394877   9957350  8811559  3216518  4292105\n",
       "1   2017  92956  1409596   6224008  10681674  8960636  1199904  4892096\n",
       "2   2018  36311  9277163   2676267   8963409  9256990  6631994  5552392\n",
       "3   2019  98601  1660474  10854249   9150408  5709109  7478769  7785292\n",
       "4   2020  70320  9992642   9698714   8832315  9261169  6015910  2739808"
      ]
     },
     "execution_count": 14,
     "metadata": {},
     "output_type": "execute_result"
    }
   ],
   "source": [
    "df = pd.read_csv('pra.csv')\n",
    "df.head()"
   ]
  },
  {
   "cell_type": "code",
   "execution_count": null,
   "id": "d05fd2d4-ff5d-4096-8a51-49cab9267e3a",
   "metadata": {},
   "outputs": [],
   "source": [
    "df.info()"
   ]
  },
  {
   "cell_type": "code",
   "execution_count": null,
   "id": "e1222224-7300-4c2a-a393-177dc2bf3a56",
   "metadata": {},
   "outputs": [],
   "source": [
    "df.describe()"
   ]
  },
  {
   "cell_type": "code",
   "execution_count": null,
   "id": "ab58526f-71e0-4794-9d1d-0435880af289",
   "metadata": {},
   "outputs": [],
   "source": [
    "y=['Apple','Mi','Samsung','Nokia','Moto','Vivo','Oppo'] "
   ]
  },
  {
   "cell_type": "code",
   "execution_count": null,
   "id": "016fd396-a879-4d24-b2c1-8dc477c97678",
   "metadata": {},
   "outputs": [],
   "source": [
    "fig = px.line(df, x='Years', y=y)\n",
    "fig.show()"
   ]
  },
  {
   "cell_type": "code",
   "execution_count": null,
   "id": "1b7c6158-6bae-4b5f-add1-f3714361446e",
   "metadata": {},
   "outputs": [],
   "source": [
    "fig = px.bar(df, x='Years', y=y)\n",
    "fig.show()"
   ]
  },
  {
   "cell_type": "code",
   "execution_count": null,
   "id": "f428c681-4894-407f-bbed-b9de5ea84482",
   "metadata": {
    "scrolled": true
   },
   "outputs": [],
   "source": [
    "print(df)"
   ]
  },
  {
   "cell_type": "code",
   "execution_count": null,
   "id": "6c31b52e-82d8-45e9-9594-32ea80d08ba9",
   "metadata": {},
   "outputs": [],
   "source": [
    "df.shape"
   ]
  },
  {
   "cell_type": "code",
   "execution_count": null,
   "id": "9160682e-ee29-4853-8e32-f213413611e4",
   "metadata": {},
   "outputs": [],
   "source": [
    "from sklearn.model_selection import train_test_split\n",
    "from sklearn.linear_model import LinearRegression"
   ]
  },
  {
   "cell_type": "code",
   "execution_count": null,
   "id": "ba50c350-5435-4376-8eca-661b04866f00",
   "metadata": {},
   "outputs": [],
   "source": [
    "x= df[[\"Years\"]]\n",
    "y=df[['Apple','Mi','Samsung','Nokia','Moto','Vivo','Oppo']] "
   ]
  },
  {
   "cell_type": "code",
   "execution_count": null,
   "id": "6610d5a0-601c-400a-8ac3-34584e75e79e",
   "metadata": {},
   "outputs": [],
   "source": [
    "x_train,x_test,y_train,y_test = train_test_split(x, y)"
   ]
  },
  {
   "cell_type": "code",
   "execution_count": null,
   "id": "f778bf7c-96bd-49f6-a526-6304a9fdc6e6",
   "metadata": {},
   "outputs": [],
   "source": [
    "x_train.shape"
   ]
  },
  {
   "cell_type": "code",
   "execution_count": null,
   "id": "b8504853-8fc6-407a-91f3-5d634af7fbf2",
   "metadata": {},
   "outputs": [],
   "source": [
    "model = LinearRegression()\n",
    "model"
   ]
  },
  {
   "cell_type": "code",
   "execution_count": null,
   "id": "475fe058-1b71-45b4-89cd-0e178d1dd28d",
   "metadata": {},
   "outputs": [],
   "source": [
    "model.fit(x_train, y_train)\n",
    "y_pred = model.predict(x_test)"
   ]
  },
  {
   "cell_type": "code",
   "execution_count": null,
   "id": "975b728d-b108-4591-94ec-d1907bf0ca25",
   "metadata": {},
   "outputs": [],
   "source": [
    "modely_pred"
   ]
  }
 ],
 "metadata": {
  "kernelspec": {
   "display_name": "Python 3 (ipykernel)",
   "language": "python",
   "name": "python3"
  },
  "language_info": {
   "codemirror_mode": {
    "name": "ipython",
    "version": 3
   },
   "file_extension": ".py",
   "mimetype": "text/x-python",
   "name": "python",
   "nbconvert_exporter": "python",
   "pygments_lexer": "ipython3",
   "version": "3.11.1"
  }
 },
 "nbformat": 4,
 "nbformat_minor": 5
}
